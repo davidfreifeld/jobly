{
 "cells": [
  {
   "cell_type": "code",
   "execution_count": null,
   "id": "0",
   "metadata": {},
   "outputs": [],
   "source": [
    "import anthropic\n",
    "import pandas as pd\n",
    "\n",
    "import sqlite3\n",
    "import os\n",
    "from datetime import datetime"
   ]
  },
  {
   "cell_type": "markdown",
   "id": "1",
   "metadata": {},
   "source": [
    "### Claude Setup"
   ]
  },
  {
   "cell_type": "code",
   "execution_count": null,
   "id": "2",
   "metadata": {},
   "outputs": [],
   "source": [
    "api_key_file = open(\"./security/anthropic_api_key.txt\", \"r\")\n",
    "anthropic_api_key = api_key_file.read()\n",
    "\n",
    "client = anthropic.Anthropic(api_key=anthropic_api_key)"
   ]
  },
  {
   "cell_type": "code",
   "execution_count": null,
   "id": "3",
   "metadata": {},
   "outputs": [],
   "source": [
    "def query_claude(prompt, use_search=False):\n",
    "\n",
    "    tools = []\n",
    "    if use_search:\n",
    "        tools = [\n",
    "            {\n",
    "                \"name\": \"web_search\",\n",
    "                \"type\": \"web_search_20250305\",\n",
    "                \"max_uses\": 1\n",
    "            }\n",
    "        ]\n",
    "\n",
    "    return client.beta.messages.create(\n",
    "        model=\"claude-sonnet-4-20250514\",\n",
    "        max_tokens=1024,\n",
    "        temperature=1,\n",
    "        messages=[\n",
    "            {\n",
    "                \"role\": \"user\",\n",
    "                \"content\": [\n",
    "                    {\n",
    "                        \"type\": \"text\",\n",
    "                        \"text\": prompt\n",
    "                    }\n",
    "                ]\n",
    "            }\n",
    "        ],\n",
    "        tools=tools\n",
    "    )"
   ]
  },
  {
   "cell_type": "markdown",
   "id": "4",
   "metadata": {},
   "source": [
    "### SQLite DB Setup"
   ]
  },
  {
   "cell_type": "code",
   "execution_count": null,
   "id": "5",
   "metadata": {},
   "outputs": [],
   "source": [
    "# Database setup - Single Company table architecture\n",
    "DB_PATH = \"./db/jobly.db\"\n",
    "\n",
    "def init_database():\n",
    "    \"\"\"Initialize the SQLite database with a single Company table\"\"\"\n",
    "    conn = sqlite3.connect(DB_PATH)\n",
    "    cursor = conn.cursor()\n",
    "    \n",
    "    # Create single companies table with all analysis columns\n",
    "    cursor.execute('''\n",
    "        CREATE TABLE IF NOT EXISTS companies (\n",
    "            id INTEGER PRIMARY KEY AUTOINCREMENT,\n",
    "            name TEXT UNIQUE NOT NULL,\n",
    "            is_good BOOLEAN,\n",
    "            is_good_msg TEXT,\n",
    "            is_good_err BOOLEAN,\n",
    "            is_local BOOLEAN,\n",
    "            is_local_msg TEXT,\n",
    "            is_local_err BOOLEAN,\n",
    "            is_hiring BOOLEAN,\n",
    "            is_hiring_msg TEXT,\n",
    "            is_hiring_err BOOLEAN,\n",
    "            created_at TIMESTAMP DEFAULT CURRENT_TIMESTAMP,\n",
    "            updated_at TIMESTAMP DEFAULT CURRENT_TIMESTAMP\n",
    "        )\n",
    "    ''')\n",
    "    \n",
    "    conn.commit()\n",
    "    conn.close()\n",
    "\n",
    "# Initialize the database\n",
    "init_database()\n"
   ]
  },
  {
   "cell_type": "code",
   "execution_count": null,
   "id": "6",
   "metadata": {},
   "outputs": [],
   "source": [
    "def get_all_companies_from_db():\n",
    "\n",
    "    all_companies_df = pd.DataFrame(columns=['id', 'name', 'is_good', 'is_good_msg', 'is_good_err', 'is_local', 'is_local_msg', 'is_local_err', 'is_hiring', 'is_hiring_msg', 'is_hiring_err', 'created_at', 'updated_at'])\n",
    "\n",
    "    with sqlite3.connect(DB_PATH, timeout=30) as conn:\n",
    "        cursor = conn.cursor()\n",
    "        cursor.execute(\"SELECT * FROM companies\")\n",
    "        rows = cursor.fetchall()\n",
    "\n",
    "        for row in rows:\n",
    "            all_companies_df.loc[len(all_companies_df)] = row\n",
    "\n",
    "    return all_companies_df\n",
    "\n",
    "def add_new_companies_to_db(companies_to_add):\n",
    "\n",
    "    with sqlite3.connect(DB_PATH, timeout=30) as conn:\n",
    "        cursor = conn.cursor()\n",
    "        for company_name in companies_to_add:\n",
    "            cursor.execute(\"INSERT OR IGNORE INTO companies (name) VALUES (?)\", (company_name,))\n",
    "        conn.commit() \n",
    "\n",
    "def add_claude_results_to_db(result_df, bool_col_name):\n",
    "\n",
    "    with sqlite3.connect(DB_PATH, timeout=30) as conn:\n",
    "        cursor = conn.cursor()\n",
    "        for _, row in result_df.iterrows():\n",
    "            cursor.execute(f\"UPDATE companies set is_{bool_col_name} = ?, is_{bool_col_name}_msg = ?, is_{bool_col_name}_err = ?, updated_at = CURRENT_TIMESTAMP WHERE name = ?\", (row[f\"IsTrue\"], row[f\"Message\"], row[f\"IsErr\"], row['Company'],))\n",
    "        conn.commit() \n",
    "\n",
    "def add_single_claude_result_to_db(company_name, is_true, message, is_err, bool_col_name):\n",
    "\n",
    "    with sqlite3.connect(DB_PATH, timeout=30) as conn:\n",
    "        cursor = conn.cursor()\n",
    "        cursor.execute(f\"UPDATE companies set is_{bool_col_name} = ?, is_{bool_col_name}_msg = ?, is_{bool_col_name}_err = ?, updated_at = CURRENT_TIMESTAMP WHERE name = ?\", (is_true, message, is_err, company_name,))\n",
    "        conn.commit() "
   ]
  },
  {
   "cell_type": "markdown",
   "id": "7",
   "metadata": {},
   "source": [
    "### Read-in new Connections CSV"
   ]
  },
  {
   "cell_type": "code",
   "execution_count": null,
   "id": "8",
   "metadata": {},
   "outputs": [],
   "source": [
    "# connections_df = pd.read_csv(\"./input/Connections.csv\", skiprows=2)\n",
    "# connections_df = pd.read_csv(\"./input/Spencer_Connections_092425.csv\")\n",
    "connections_df = pd.read_csv(\"./input/Test_Connections.csv\")\n",
    "connections_df = connections_df[connections_df['Company'].notna()]\n",
    "# print(connections_df.head())\n",
    "\n",
    "companies_to_add = connections_df.Company.unique()\n",
    "# print(companies_to_add)\n",
    "print(f\"Successfully read-in connections. Total unique companies: {len(companies_to_add)}\")"
   ]
  },
  {
   "cell_type": "code",
   "execution_count": null,
   "id": "9",
   "metadata": {},
   "outputs": [],
   "source": [
    "add_new_companies_to_db(companies_to_add)"
   ]
  },
  {
   "cell_type": "code",
   "execution_count": null,
   "id": "10",
   "metadata": {},
   "outputs": [],
   "source": [
    "def loop_through_companies(companies, prompt_template, bool_col_name, use_search=False):\n",
    "    \n",
    "    result_df = pd.DataFrame(columns=['Company', 'IsTrue', 'Message', 'IsErr'])\n",
    "    total_input_tokens = 0\n",
    "    total_output_tokens = 0\n",
    "    counter = 0\n",
    "\n",
    "    for company_name in companies:\n",
    "\n",
    "        formatted_prompt = prompt_template.format(company_name=company_name)\n",
    "        message = query_claude(formatted_prompt, use_search=use_search)\n",
    "\n",
    "        final_text = message.content[-1].text\n",
    "        bool_col = False\n",
    "        is_err = False\n",
    "\n",
    "        if final_text.endswith('TRUE'):\n",
    "            bool_col = True\n",
    "        elif final_text.endswith('FALSE'):\n",
    "            bool_col = False\n",
    "        else:\n",
    "            is_err = True\n",
    "\n",
    "        result_df.loc[len(result_df)] = [company_name, bool_col, final_text, is_err]\n",
    "\n",
    "        add_single_claude_result_to_db(company_name, bool_col, final_text, is_err, bool_col_name)\n",
    "\n",
    "        total_input_tokens += message.usage.input_tokens\n",
    "        total_output_tokens += message.usage.output_tokens\n",
    "        counter += 1\n",
    "\n",
    "        print(f\"{counter:3d}/{len(companies)}: Processed company: {company_name}. Input tokens: {message.usage.input_tokens}; Output tokens: {message.usage.output_tokens}; Error: {is_err}\")\n",
    "\n",
    "    print(f\"\\nTotal input tokens: {total_input_tokens}; Total output tokens: {total_output_tokens}\")\n",
    "\n",
    "    return result_df"
   ]
  },
  {
   "cell_type": "code",
   "execution_count": null,
   "id": "11",
   "metadata": {},
   "outputs": [],
   "source": [
    "# get all the companies from the db with is_good = null\n",
    "companies_to_process = []\n",
    "with sqlite3.connect(DB_PATH, timeout=30) as conn:\n",
    "    cursor = conn.cursor()\n",
    "    cursor.execute(\"SELECT name FROM companies WHERE is_good IS NULL\")\n",
    "    companies_to_process = [row[0] for row in cursor.fetchall()]\n",
    "\n",
    "print(f\"Processing {len(companies_to_process)} new companies\")\n",
    "\n",
    "good_prompt = \"\"\"\n",
    "        I am looking for jobs. I am a data scientist looking for a company or non-profit working on a pro-social mission. \n",
    "        Some example cause areas: climate change, healthcare, preserving democracy, wealth inequality, education. \n",
    "        But I am interested in any others that are for the benefit of the greater good.\n",
    "        Can you please let me know if this company fits that above description: {company_name}. \n",
    "        If it does meet this conditions, just reply \"TRUE\". If it does not, just reply \"FALSE\". Do not respond with the reasoning for this decision, \n",
    "        simply respond \"TRUE\" or \"FALSE\".\n",
    "    \"\"\"\n",
    "\n",
    "good_result_df = loop_through_companies(companies_to_process, good_prompt, bool_col_name='good')\n",
    "\n",
    "# add_claude_results_to_db(good_result_df, bool_col_name='good')"
   ]
  },
  {
   "cell_type": "code",
   "execution_count": null,
   "id": "12",
   "metadata": {},
   "outputs": [],
   "source": [
    "# get all the companies from the db with is_good = true and is_local = null\n",
    "companies_to_process = []\n",
    "with sqlite3.connect(DB_PATH, timeout=30) as conn:\n",
    "    cursor = conn.cursor()\n",
    "    cursor.execute(\"SELECT name FROM companies WHERE is_good IS TRUE AND is_local IS NULL\")\n",
    "    companies_to_process = [row[0] for row in cursor.fetchall()]\n",
    "\n",
    "print(f\"Processing {len(companies_to_process)} new companies\")\n",
    "\n",
    "local_prompt = \"\"\"\n",
    "        Can you please let me know if the company {company_name} is either fully remote or based in Colorado?\n",
    "        I live in Colorado and can only work for a company that is based in Colorado or fully remote.\n",
    "        If it is remote or in Colorado, just reply \"TRUE\". If it is neither, just reply \"FALSE\". \n",
    "        Do not respond with the reasoning for this decision, simply respond \"TRUE\" or \"FALSE\".\n",
    "    \"\"\"\n",
    "\n",
    "local_result_df = loop_through_companies(companies_to_process, local_prompt, bool_col_name='local')\n",
    "\n",
    "# add_claude_results_to_db(local_result_df, bool_col_name='local')"
   ]
  },
  {
   "cell_type": "markdown",
   "id": "13",
   "metadata": {},
   "source": [
    "### Use Web Search Tool to Look at Careers Pages"
   ]
  },
  {
   "cell_type": "code",
   "execution_count": null,
   "id": "14",
   "metadata": {},
   "outputs": [],
   "source": [
    "# get all the companies from the db with is_good = true and is_local = true and is_hiring = null\n",
    "companies_to_process = []\n",
    "with sqlite3.connect(DB_PATH, timeout=30) as conn:\n",
    "    cursor = conn.cursor()\n",
    "    cursor.execute(\"SELECT name FROM companies WHERE is_good AND is_local AND is_hiring IS NULL\")\n",
    "    companies_to_process = [row[0] for row in cursor.fetchall()]\n",
    "\n",
    "print(f\"Processing {len(companies_to_process)} new companies\")\n",
    "\n",
    "hiring_prompt = \"\"\"\n",
    "        Please search the careers or jobs page of the company called {company_name} and let me know if they are hiring for a data scientist or data analystposition.\n",
    "        If they are not currently hiring for such a role, just reply \"FALSE\". If they are hiring for such a role, reply with the link to the relevant job, and end your response with \"TRUE\". \n",
    "    \"\"\"\n",
    "\n",
    "hiring_result_df = loop_through_companies(companies_to_process, hiring_prompt, bool_col_name='hiring', use_search=True)\n",
    "\n",
    "# add_claude_results_to_db(hiring_result_df, bool_col_name='hiring')"
   ]
  },
  {
   "cell_type": "markdown",
   "id": "15",
   "metadata": {},
   "source": [
    "### Inspect Results"
   ]
  },
  {
   "cell_type": "code",
   "execution_count": null,
   "id": "16",
   "metadata": {},
   "outputs": [],
   "source": [
    "get_all_companies_from_db()"
   ]
  },
  {
   "cell_type": "code",
   "execution_count": null,
   "id": "17",
   "metadata": {},
   "outputs": [],
   "source": [
    "with sqlite3.connect(DB_PATH, timeout=30) as conn:\n",
    "    cursor = conn.cursor()\n",
    "    cursor.execute(\"SELECT count(*) FROM companies\")\n",
    "    print(f\"total: {cursor.fetchone()[0]}\")\n",
    "\n",
    "with sqlite3.connect(DB_PATH, timeout=30) as conn:\n",
    "    cursor = conn.cursor()\n",
    "    cursor.execute(\"SELECT count(*) FROM companies where is_good is true\")\n",
    "    print(f\"good: {cursor.fetchone()[0]}\")\n",
    "\n",
    "with sqlite3.connect(DB_PATH, timeout=30) as conn:\n",
    "    cursor = conn.cursor()\n",
    "    cursor.execute(\"SELECT count(*) FROM companies where is_local is true\")\n",
    "    print(f\"local: {cursor.fetchone()[0]}\")\n",
    "\n",
    "with sqlite3.connect(DB_PATH, timeout=30) as conn:\n",
    "    cursor = conn.cursor()\n",
    "    cursor.execute(\"SELECT count(*) FROM companies where is_hiring is true\")\n",
    "    print(f\"hiring: {cursor.fetchone()[0]}\")"
   ]
  },
  {
   "cell_type": "code",
   "execution_count": null,
   "id": "18",
   "metadata": {},
   "outputs": [],
   "source": [
    "with sqlite3.connect(DB_PATH, timeout=30) as conn:\n",
    "    cursor.execute(\"SELECT name FROM companies where is_hiring is true\")\n",
    "    companies_to_look_at = [row[0] for row in cursor.fetchall()]\n",
    "\n",
    "    for i, company in enumerate(companies_to_look_at):\n",
    "        print(f\"{i+1}: {company}\")\n"
   ]
  },
  {
   "cell_type": "code",
   "execution_count": null,
   "id": "19",
   "metadata": {},
   "outputs": [],
   "source": [
    "!sqlite3 jobly.db -header -csv \"SELECT * FROM companies;\" > snapshots/companies_$(date +%Y%m%d).csv"
   ]
  },
  {
   "cell_type": "code",
   "execution_count": null,
   "id": "20",
   "metadata": {},
   "outputs": [],
   "source": [
    "# backup_df = pd.read_csv(\"./snapshots/companies_20250925.csv\")\n",
    "# # convert created_at to datetime\n",
    "# backup_df['created_at'] = pd.to_datetime(backup_df['created_at'])\n",
    "# backup_df['updated_at'] = pd.to_datetime(backup_df['updated_at'])\n",
    "# display(backup_df.head())\n",
    "\n",
    "# # show types of columns\n",
    "# backup_df.dtypes\n",
    "\n",
    "# for index, row in backup_df.iterrows():\n",
    "#     # Convert pandas Timestamp objects to strings for SQLite compatibility\n",
    "#     created_at_str = row['created_at'].strftime('%Y-%m-%d %H:%M:%S') if pd.notna(row['created_at']) else None\n",
    "#     updated_at_str = row['updated_at'].strftime('%Y-%m-%d %H:%M:%S') if pd.notna(row['updated_at']) else None\n",
    "    \n",
    "#     with sqlite3.connect(DB_PATH, timeout=30) as conn:\n",
    "#         cursor = conn.cursor()\n",
    "#         cursor.execute(\"INSERT INTO companies (name, is_good, is_good_msg, is_good_err, is_local, is_local_msg, is_local_err, is_hiring, is_hiring_msg, is_hiring_err, created_at, updated_at) VALUES (?, ?, ?, ?, ?, ?, ?, ?, ?, ?, ?, ?)\", (row['name'], row['is_good'], row['is_good_msg'], row['is_good_err'], row['is_local'], row['is_local_msg'], row['is_local_err'], row['is_hiring'], row['is_hiring_msg'], row['is_hiring_err'], created_at_str, updated_at_str))\n",
    "#         print(f\"Inserted row {index + 1}\")"
   ]
  }
 ],
 "metadata": {
  "kernelspec": {
   "display_name": "base",
   "language": "python",
   "name": "python3"
  },
  "language_info": {
   "codemirror_mode": {
    "name": "ipython",
    "version": 3
   },
   "file_extension": ".py",
   "mimetype": "text/x-python",
   "name": "python",
   "nbconvert_exporter": "python",
   "pygments_lexer": "ipython3",
   "version": "3.11.5"
  }
 },
 "nbformat": 4,
 "nbformat_minor": 5
}
