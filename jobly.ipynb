{
 "cells": [
  {
   "cell_type": "code",
   "execution_count": null,
   "id": "0",
   "metadata": {},
   "outputs": [],
   "source": [
    "import anthropic\n",
    "import pandas as pd"
   ]
  },
  {
   "cell_type": "code",
   "execution_count": null,
   "id": "1",
   "metadata": {},
   "outputs": [],
   "source": [
    "connections_df = pd.read_csv(\"./input/Connections.csv\", skiprows=2)\n",
    "# print(connections_df.head())\n",
    "\n",
    "companies = connections_df.Company.unique()\n",
    "# print(companies)\n",
    "print(f\"Successfully read-in connections. Total unique companies: {len(companies)}\")"
   ]
  },
  {
   "cell_type": "code",
   "execution_count": null,
   "id": "2",
   "metadata": {},
   "outputs": [],
   "source": [
    "api_key_file = open(\"./anthropic_api_key.txt\", \"r\")\n",
    "anthropic_api_key = api_key_file.read()\n",
    "\n",
    "client = anthropic.Anthropic(api_key=anthropic_api_key)"
   ]
  },
  {
   "cell_type": "code",
   "execution_count": null,
   "id": "3",
   "metadata": {},
   "outputs": [],
   "source": [
    "def query_claude(prompt, use_search=False):\n",
    "\n",
    "    tools = []\n",
    "    if use_search:\n",
    "        tools = [\n",
    "            {\n",
    "                \"name\": \"web_search\",\n",
    "                \"type\": \"web_search_20250305\",\n",
    "                \"max_uses\": 1\n",
    "            }\n",
    "        ]\n",
    "        betas = [\"web-search-2025-03-05\"]\n",
    "\n",
    "    return client.beta.messages.create(\n",
    "        model=\"claude-sonnet-4-20250514\",\n",
    "        max_tokens=1024,\n",
    "        temperature=1,\n",
    "        messages=[\n",
    "            {\n",
    "                \"role\": \"user\",\n",
    "                \"content\": [\n",
    "                    {\n",
    "                        \"type\": \"text\",\n",
    "                        \"text\": prompt\n",
    "                    }\n",
    "                ]\n",
    "            }\n",
    "        ],\n",
    "        tools=tools\n",
    "    )"
   ]
  },
  {
   "cell_type": "code",
   "execution_count": null,
   "id": "4",
   "metadata": {},
   "outputs": [],
   "source": [
    "def loop_through_companies(companies, prompt_template, bool_col_name='IsGood'):\n",
    "    \n",
    "    result_df = pd.DataFrame(columns=['Company', bool_col_name, 'Message', 'IsErr'])\n",
    "    total_input_tokens = 0\n",
    "    total_output_tokens = 0\n",
    "    counter = 0\n",
    "\n",
    "    for company_name in companies:\n",
    "\n",
    "        formatted_prompt = prompt_template.format(company_name=company_name)\n",
    "        message = query_claude(formatted_prompt)\n",
    "\n",
    "        final_text = message.content[-1].text\n",
    "        bool_col = False\n",
    "        is_err = False\n",
    "\n",
    "        if final_text.endswith('TRUE'):\n",
    "            bool_col = True\n",
    "        elif final_text.endswith('FALSE'):\n",
    "            bool_col = False\n",
    "        else:\n",
    "            is_err = True\n",
    "\n",
    "        result_df.loc[len(result_df)] = [company_name, bool_col, final_text, is_err]\n",
    "\n",
    "        total_input_tokens += message.usage.input_tokens\n",
    "        total_output_tokens += message.usage.output_tokens\n",
    "        counter += 1\n",
    "\n",
    "        print(f\"{counter:3d}/{len(companies)}: Processed company: {company_name}. Input tokens: {message.usage.input_tokens}; Output tokens: {message.usage.output_tokens}; Error: {is_err}\")\n",
    "\n",
    "    return result_df.set_index('Company')"
   ]
  },
  {
   "cell_type": "code",
   "execution_count": null,
   "id": "5",
   "metadata": {},
   "outputs": [],
   "source": [
    "good_prompt = \"\"\"\n",
    "        I am looking for jobs. I am a data scientist looking for a company or non-profit working on a pro-social mission. \n",
    "        Some example cause areas: climate change, healthcare, preserving democracy, wealth inequality, education. \n",
    "        But I am interested in any others that are for the benefit of the greater good.\n",
    "        Can you please let me know if this company fits that above description: {company_name}. \n",
    "        If it does meet this conditions, just reply \"TRUE\". If it does not, just reply \"FALSE\". Do not respond with the reasoning for this decision, \n",
    "        simply respond \"TRUE\" or \"FALSE\".\n",
    "    \"\"\"\n",
    "\n",
    "result_df = loop_through_companies(companies, good_prompt, bool_col_name='IsGood')\n",
    "result_df"
   ]
  },
  {
   "cell_type": "code",
   "execution_count": null,
   "id": "6",
   "metadata": {},
   "outputs": [],
   "source": [
    "# result_df = pd.read_csv(\"./output/dave_connection_companies_first_pass.csv\", index_col=0)"
   ]
  },
  {
   "cell_type": "code",
   "execution_count": null,
   "id": "7",
   "metadata": {},
   "outputs": [],
   "source": [
    "good_df = result_df.loc[result_df['IsGood'] == True]\n",
    "good_companies = good_df.index.tolist()\n",
    "print(f\"Good companies: {len(good_companies)}\")"
   ]
  },
  {
   "cell_type": "code",
   "execution_count": null,
   "id": "8",
   "metadata": {},
   "outputs": [],
   "source": [
    "local_prompt = \"\"\"\n",
    "        Can you please let me know if the company {company_name} is either fully remote or based in Colorado?\n",
    "        I live in Colorado and can only work for a company that is based in Colorado or fully remote.\n",
    "        If it is remote or in Colorado, just reply \"TRUE\". If it is neither, just reply \"FALSE\". \n",
    "        Do not respond with the reasoning for this decision, simply respond \"TRUE\" or \"FALSE\".\n",
    "    \"\"\"\n",
    "\n",
    "loc_result_df = loop_through_companies(good_companies, local_prompt, bool_col_name='IsLocal')\n",
    "loc_result_df"
   ]
  },
  {
   "cell_type": "code",
   "execution_count": null,
   "id": "9",
   "metadata": {},
   "outputs": [],
   "source": [
    "loc_result_df.loc[loc_result_df['IsLocal'] == True]"
   ]
  },
  {
   "cell_type": "code",
   "execution_count": null,
   "id": "10",
   "metadata": {},
   "outputs": [],
   "source": [
    "# HERE IS A NEW CELL"
   ]
  },
  {
   "cell_type": "code",
   "execution_count": null,
   "id": "11",
   "metadata": {},
   "outputs": [],
   "source": [
    "loc_result_df.to_csv(\"./output/dave_connection_companies_second_pass.csv\")\n",
    "# result_df.to_csv(\"./output/dave_connection_companies_first_pass.csv\", index=False)"
   ]
  },
  {
   "cell_type": "code",
   "execution_count": null,
   "id": "12",
   "metadata": {},
   "outputs": [],
   "source": [
    "# class CompanyResult:\n",
    "#     def __init__(self, is_good, message, is_err):\n",
    "#         self.is_good = is_good\n",
    "#         self.message = message\n",
    "#         self.is_err = is_err\n",
    "\n",
    "#     def __str__(self):\n",
    "#         return f\"CompanyResult(is_good={self.is_good}, message={self.message}, is_err={self.is_err})\"\n",
    "\n",
    "#     def __repr__(self):\n",
    "#        return self.__str__()\n",
    "\n",
    "#     def (self):\n",
    "#         return {\n",
    "#             \"is_good\": self.is_good,\n",
    "#             \"message\": self.message,\n",
    "#             \"is_err\": self.is_err\n",
    "#         }\n",
    "\n",
    "# \"text\": f\"\"\"\n",
    "#     I am looking for jobs. I am a data scientist looking for a company or non-profit working on a pro-social mission. \n",
    "#     Some example cause areas: climate change, healthcare, preserving democracy, wealth inequality, education. \n",
    "#     But I am interested in any others that are for the benefit of the greater good. I can only work in Colorado or fully remotely. \n",
    "#     Can you please let me know if this company fits that above description: {company_name}. \n",
    "#     If it does meet these conditions, just reply \"TRUE\". If it does not, just reply \"FALSE\". Do not respond with the reasoning for this decision, \n",
    "#     simply respond \"TRUE\" or \"FALSE\".\n",
    "# \"\"\""
   ]
  }
 ],
 "metadata": {
  "kernelspec": {
   "display_name": "base",
   "language": "python",
   "name": "python3"
  },
  "language_info": {
   "codemirror_mode": {
    "name": "ipython",
    "version": 3
   },
   "file_extension": ".py",
   "mimetype": "text/x-python",
   "name": "python",
   "nbconvert_exporter": "python",
   "pygments_lexer": "ipython3",
   "version": "3.11.5"
  }
 },
 "nbformat": 4,
 "nbformat_minor": 5
}
